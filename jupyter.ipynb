{
 "cells": [
  {
   "cell_type": "code",
   "execution_count": 55,
   "outputs": [],
   "source": [
    "import os\n",
    "os.chdir('/home/yry08/yigedabuliu/lkq/LiteMedSAM')"
   ],
   "metadata": {
    "collapsed": false,
    "ExecuteTime": {
     "end_time": "2024-03-21T05:15:14.408479200Z",
     "start_time": "2024-03-21T05:15:14.363001500Z"
    }
   }
  },
  {
   "cell_type": "code",
   "execution_count": 56,
   "outputs": [],
   "source": [
    "npy_path = '/mnt/sda3/yigedabuliu/lkq/data/Task01_BrainTumour/npy/'"
   ],
   "metadata": {
    "collapsed": false,
    "ExecuteTime": {
     "end_time": "2024-03-21T05:15:25.858396700Z",
     "start_time": "2024-03-21T05:15:25.855682700Z"
    }
   }
  },
  {
   "cell_type": "code",
   "execution_count": 79,
   "outputs": [],
   "source": [
    "import numpy as np\n",
    "\n",
    "ct_img = np.load('/mnt/sda3/yigedabuliu/lkq/LiteMedSAM/data/npy/imgs/CT_Abd_FLARE22_Tr_0001-000.npy')"
   ],
   "metadata": {
    "collapsed": false,
    "ExecuteTime": {
     "end_time": "2024-03-21T05:36:09.729593800Z",
     "start_time": "2024-03-21T05:36:09.687037300Z"
    }
   }
  },
  {
   "cell_type": "code",
   "execution_count": 80,
   "outputs": [
    {
     "data": {
      "text/plain": "(512, 512, 3)"
     },
     "execution_count": 80,
     "metadata": {},
     "output_type": "execute_result"
    }
   ],
   "source": [
    "ct_img.shape"
   ],
   "metadata": {
    "collapsed": false,
    "ExecuteTime": {
     "end_time": "2024-03-21T05:36:10.010245100Z",
     "start_time": "2024-03-21T05:36:10.005168500Z"
    }
   }
  },
  {
   "cell_type": "code",
   "execution_count": 81,
   "outputs": [
    {
     "data": {
      "text/plain": "(3, 240, 240)"
     },
     "execution_count": 81,
     "metadata": {},
     "output_type": "execute_result"
    }
   ],
   "source": [
    "img = np.load('/mnt/sda3/yigedabuliu/lkq/data/Task01_BrainTumour/npy/imgs/BraTS2021_00000_mri_norm2_modal0_f_69.npy')\n",
    "img.shape"
   ],
   "metadata": {
    "collapsed": false,
    "ExecuteTime": {
     "end_time": "2024-03-21T05:36:12.429100200Z",
     "start_time": "2024-03-21T05:36:12.413915200Z"
    }
   }
  },
  {
   "cell_type": "code",
   "execution_count": 83,
   "outputs": [
    {
     "data": {
      "text/plain": "(1, 240, 240)"
     },
     "execution_count": 83,
     "metadata": {},
     "output_type": "execute_result"
    }
   ],
   "source": [
    "gt = np.load('/mnt/sda3/yigedabuliu/lkq/data/Task01_BrainTumour/npy/gts/BraTS2021_00000_mri_norm2_modal0_f_69.npy')\n",
    "gt.shape"
   ],
   "metadata": {
    "collapsed": false,
    "ExecuteTime": {
     "end_time": "2024-03-21T05:38:12.888411400Z",
     "start_time": "2024-03-21T05:38:12.845770600Z"
    }
   }
  },
  {
   "cell_type": "code",
   "execution_count": 82,
   "outputs": [
    {
     "data": {
      "text/plain": "(512, 512)"
     },
     "execution_count": 82,
     "metadata": {},
     "output_type": "execute_result"
    }
   ],
   "source": [
    "ct_gt = np.load('/mnt/sda3/yigedabuliu/lkq/LiteMedSAM/data/npy/gts/CT_Abd_FLARE22_Tr_0001-000.npy')\n",
    "ct_gt.shape"
   ],
   "metadata": {
    "collapsed": false,
    "ExecuteTime": {
     "end_time": "2024-03-21T05:37:32.408832900Z",
     "start_time": "2024-03-21T05:37:32.390840500Z"
    }
   }
  },
  {
   "cell_type": "code",
   "execution_count": 85,
   "outputs": [],
   "source": [
    "import torch\n",
    "tensor = torch.tensor([[0, 0, 0],\n",
    "                       [0, 0, 0],\n",
    "                       [0, 0, 0]])\n",
    "all_zeros = torch.all(tensor == 0)"
   ],
   "metadata": {
    "collapsed": false,
    "ExecuteTime": {
     "end_time": "2024-03-21T05:55:35.736395300Z",
     "start_time": "2024-03-21T05:55:20.031981Z"
    }
   }
  },
  {
   "cell_type": "code",
   "execution_count": 86,
   "outputs": [
    {
     "data": {
      "text/plain": "tensor(True)"
     },
     "execution_count": 86,
     "metadata": {},
     "output_type": "execute_result"
    }
   ],
   "source": [
    "all_zeros"
   ],
   "metadata": {
    "collapsed": false,
    "ExecuteTime": {
     "end_time": "2024-03-21T05:55:40.152740900Z",
     "start_time": "2024-03-21T05:55:40.148727500Z"
    }
   }
  },
  {
   "cell_type": "code",
   "execution_count": 87,
   "outputs": [
    {
     "name": "stdout",
     "output_type": "stream",
     "text": [
      "数组是否全为0: True\n"
     ]
    }
   ],
   "source": [
    "# 假设你有一个NumPy数组\n",
    "array = np.array([[0, 0, 0],\n",
    "                  [0, 0, 0]])\n",
    "\n",
    "# 判断数组是否全为0\n",
    "is_all_zero = np.all(array == 0)\n",
    "\n",
    "print(\"数组是否全为0:\", is_all_zero)"
   ],
   "metadata": {
    "collapsed": false,
    "ExecuteTime": {
     "end_time": "2024-03-21T05:55:53.595446400Z",
     "start_time": "2024-03-21T05:55:53.549257500Z"
    }
   }
  },
  {
   "cell_type": "code",
   "execution_count": null,
   "outputs": [],
   "source": [],
   "metadata": {
    "collapsed": false
   }
  }
 ],
 "metadata": {
  "kernelspec": {
   "name": "lite-medsam",
   "language": "python",
   "display_name": "lite-medsam"
  },
  "language_info": {
   "codemirror_mode": {
    "name": "ipython",
    "version": 2
   },
   "file_extension": ".py",
   "mimetype": "text/x-python",
   "name": "python",
   "nbconvert_exporter": "python",
   "pygments_lexer": "ipython2",
   "version": "2.7.6"
  }
 },
 "nbformat": 4,
 "nbformat_minor": 0
}
