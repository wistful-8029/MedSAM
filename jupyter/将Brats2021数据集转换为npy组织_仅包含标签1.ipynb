{
 "cells": [
  {
   "cell_type": "code",
   "execution_count": 47,
   "outputs": [],
   "source": [
    "import os\n",
    "\n",
    "os.chdir('/home/yry08/yigedabuliu/lkq/LiteMedSAM')"
   ],
   "metadata": {
    "collapsed": false,
    "ExecuteTime": {
     "end_time": "2024-03-21T04:50:06.293092Z",
     "start_time": "2024-03-21T04:50:06.271128700Z"
    }
   }
  },
  {
   "cell_type": "code",
   "execution_count": 62,
   "outputs": [],
   "source": [
    "brats_data_root = '/mnt/sda3/yigedabuliu/lkq/data/Task01_BrainTumour/h5_datasets/'"
   ],
   "metadata": {
    "collapsed": false,
    "ExecuteTime": {
     "end_time": "2024-03-21T04:52:37.933163600Z",
     "start_time": "2024-03-21T04:52:37.920158700Z"
    }
   }
  },
  {
   "cell_type": "markdown",
   "source": [
    "### 需要将数据集转换为形状为 img:[3,H,W]   gt:[1,H,W]  box:[1,1,4]"
   ],
   "metadata": {
    "collapsed": false
   }
  },
  {
   "cell_type": "code",
   "execution_count": 83,
   "outputs": [],
   "source": [
    "# 导入相关包\n",
    "import torch\n",
    "from tqdm import tqdm\n",
    "import numpy as np\n",
    "import h5py\n",
    "import matplotlib.pyplot as plt"
   ],
   "metadata": {
    "collapsed": false,
    "ExecuteTime": {
     "end_time": "2024-03-21T05:13:05.758198Z",
     "start_time": "2024-03-21T05:13:05.754200100Z"
    }
   }
  },
  {
   "cell_type": "code",
   "execution_count": 87,
   "outputs": [],
   "source": [
    "# 单张截面转换测试\n",
    "\n",
    "def single_convert(single_img, single_label):\n",
    "    \"\"\"\n",
    "        将单张[H,W]的图像和标签改为合适的尺寸\n",
    "        single_img: tensor [240,240]\n",
    "        single_label: tensor [240,240]\n",
    "    \"\"\"\n",
    "\n",
    "    # 将通道数堆叠为3\n",
    "    single_img = np.stack((single_img,) * 3, axis=-1)\n",
    "    single_img = np.clip(single_img, 0, 1)\n",
    "\n",
    "    # 只保留原始标签为1的，即NT区域\n",
    "    mask = single_label != 1\n",
    "    single_label[mask] = 0\n",
    "\n",
    "    # rows, cols = np.where(single_label == 1)\n",
    "    #\n",
    "    # # 找到边界\n",
    "    # top = np.min(rows)\n",
    "    # bottom = np.max(rows)\n",
    "    # left = np.min(cols)\n",
    "    # right = np.max(cols)\n",
    "\n",
    "    # coords = np.array([[[left, top, right, bottom]]])\n",
    "    # print(f'single img shape:{single_img.shape}')\n",
    "\n",
    "    # single_img = np.transpose(single_img, (2, 0, 1))\n",
    "    single_label = np.expand_dims(single_label, axis=0)\n",
    "\n",
    "    return single_img, single_label"
   ],
   "metadata": {
    "collapsed": false,
    "ExecuteTime": {
     "end_time": "2024-03-21T05:36:29.373595Z",
     "start_time": "2024-03-21T05:36:29.355456700Z"
    }
   }
  },
  {
   "cell_type": "code",
   "execution_count": 92,
   "outputs": [
    {
     "name": "stderr",
     "output_type": "stream",
     "text": [
      "100%|███████████████████████████████████████████████████████████████████████████████| 1251/1251 [17:17<00:00,  1.21it/s]\n"
     ]
    }
   ],
   "source": [
    "# 读取并转换数据\n",
    "\n",
    "save_root = '/mnt/sda3/yigedabuliu/lkq/data/Task01_BrainTumour/npy/'\n",
    "\n",
    "all_sequence = sorted(os.listdir(brats_data_root))\n",
    "\n",
    "modal_size = 4\n",
    "\n",
    "for sequence in tqdm(all_sequence):\n",
    "    # 读取每个h5文件\n",
    "    h5_path = brats_data_root + sequence\n",
    "\n",
    "    h5f = h5py.File(h5_path, 'r')\n",
    "    image = h5f['image'][:]\n",
    "    label = h5f['label'][:]\n",
    "\n",
    "    depth = image.shape[-1]\n",
    "\n",
    "    # 只保留第1个模态\n",
    "    cur_modal = 'modal_0'\n",
    "\n",
    "    for j in range(depth):\n",
    "        img_f = image[0, :, :, j].copy()\n",
    "        label_f = label[:, :, j].copy()\n",
    "\n",
    "        img_f, label_f = single_convert(img_f, label_f)\n",
    "\n",
    "        # 仅保存非空\n",
    "        if not np.all(label_f == 0):\n",
    "            frame_name = sequence.split('.')[0] + '_modal0' + '_f_' + str(j) + '.npy'\n",
    "            # 保存文件\n",
    "            img_save_path = save_root + 'imgs/' + frame_name\n",
    "            label_save_path = save_root + 'gts/' + frame_name\n",
    "\n",
    "            np.save(img_save_path, img_f)\n",
    "            np.save(label_save_path, label_f)\n",
    "\n"
   ],
   "metadata": {
    "collapsed": false,
    "ExecuteTime": {
     "end_time": "2024-03-21T06:15:42.342024Z",
     "start_time": "2024-03-21T05:58:24.432950400Z"
    }
   }
  },
  {
   "cell_type": "code",
   "execution_count": null,
   "outputs": [],
   "source": [],
   "metadata": {
    "collapsed": false
   }
  }
 ],
 "metadata": {
  "kernelspec": {
   "name": "lite-medsam",
   "language": "python",
   "display_name": "lite-medsam"
  },
  "language_info": {
   "codemirror_mode": {
    "name": "ipython",
    "version": 2
   },
   "file_extension": ".py",
   "mimetype": "text/x-python",
   "name": "python",
   "nbconvert_exporter": "python",
   "pygments_lexer": "ipython2",
   "version": "2.7.6"
  }
 },
 "nbformat": 4,
 "nbformat_minor": 0
}
