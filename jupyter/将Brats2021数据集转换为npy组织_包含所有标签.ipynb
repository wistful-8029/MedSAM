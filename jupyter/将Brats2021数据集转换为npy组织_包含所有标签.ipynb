{
 "cells": [
  {
   "cell_type": "code",
   "execution_count": 28,
   "outputs": [],
   "source": [
    "import os\n",
    "\n",
    "os.chdir('/home/yry08/yigedabuliu/lkq/LiteMedSAM')"
   ],
   "metadata": {
    "collapsed": false,
    "ExecuteTime": {
     "end_time": "2024-03-22T04:20:42.742444500Z",
     "start_time": "2024-03-22T04:20:42.691693400Z"
    }
   }
  },
  {
   "cell_type": "code",
   "execution_count": 29,
   "outputs": [],
   "source": [
    "brats_data_root = '/mnt/sda3/yigedabuliu/lkq/data/Task01_BrainTumour/h5_datasets/'"
   ],
   "metadata": {
    "collapsed": false,
    "ExecuteTime": {
     "end_time": "2024-03-22T04:20:43.241472600Z",
     "start_time": "2024-03-22T04:20:43.232009200Z"
    }
   }
  },
  {
   "cell_type": "markdown",
   "source": [
    "### 需要将数据集转换为形状为 img:[3,H,W]   gt:[1,H,W]  box:[1,1,4]"
   ],
   "metadata": {
    "collapsed": false
   }
  },
  {
   "cell_type": "code",
   "execution_count": 30,
   "outputs": [],
   "source": [
    "# 导入相关包\n",
    "import torch\n",
    "from tqdm import tqdm\n",
    "import numpy as np\n",
    "import h5py\n",
    "import matplotlib.pyplot as plt"
   ],
   "metadata": {
    "collapsed": false,
    "ExecuteTime": {
     "end_time": "2024-03-22T04:20:44.509716700Z",
     "start_time": "2024-03-22T04:20:44.505493100Z"
    }
   }
  },
  {
   "cell_type": "code",
   "execution_count": 31,
   "outputs": [],
   "source": [
    "# 单张截面转换测试\n",
    "\n",
    "def single_convert(single_img, single_label):\n",
    "    \"\"\"\n",
    "        将单张[H,W]的图像和标签改为合适的尺寸\n",
    "        single_img: tensor [240,240]\n",
    "        single_label: tensor [240,240]\n",
    "    \"\"\"\n",
    "\n",
    "    # 将通道数堆叠为3\n",
    "    single_img = np.stack((single_img,) * 3, axis=-1)\n",
    "    single_img = np.clip(single_img, 0, 1)\n",
    "\n",
    "    # 只保留原始标签为1的，即NT区域\n",
    "    NT_label = single_label.copy()\n",
    "    NT_mask = NT_label != 1\n",
    "    NT_label[NT_mask] = 0\n",
    "\n",
    "    # 只保留原始标签为2的，即ED区域\n",
    "    ED_label = single_label.copy()\n",
    "    ED_mask = ED_label != 2\n",
    "    ED_label[ED_mask] = 0\n",
    "\n",
    "    # 只保留原始标签为4的，即ET区域\n",
    "    ET_label = single_label.copy()\n",
    "    ET_mask = ET_label != 4\n",
    "    ET_label[ET_mask] = 0\n",
    "\n",
    "    # single_img = np.transpose(single_img, (2, 0, 1))\n",
    "    NT_label = np.expand_dims(NT_label, axis=0)\n",
    "    ED_label = np.expand_dims(ED_label, axis=0)\n",
    "    ET_label = np.expand_dims(ET_label, axis=0)\n",
    "\n",
    "    return single_img, NT_label, ED_label, ET_label"
   ],
   "metadata": {
    "collapsed": false,
    "ExecuteTime": {
     "end_time": "2024-03-22T04:20:44.976862900Z",
     "start_time": "2024-03-22T04:20:44.970500400Z"
    }
   }
  },
  {
   "cell_type": "code",
   "execution_count": null,
   "outputs": [
    {
     "name": "stderr",
     "output_type": "stream",
     "text": [
      " 83%|███████████████████████████████████████████████████████████████▌             | 1033/1251 [1:24:44<19:28,  5.36s/it]"
     ]
    }
   ],
   "source": [
    "# 读取并转换数据\n",
    "\n",
    "save_root = '/mnt/sda3/yigedabuliu/lkq/data/Task01_BrainTumour/npy/'\n",
    "\n",
    "all_sequence = sorted(os.listdir(brats_data_root))\n",
    "\n",
    "modal_size = 4\n",
    "\n",
    "for sequence in tqdm(all_sequence):\n",
    "    # 读取每个h5文件\n",
    "    h5_path = brats_data_root + sequence\n",
    "\n",
    "    h5f = h5py.File(h5_path, 'r')\n",
    "    image = h5f['image'][:]\n",
    "    label = h5f['label'][:]\n",
    "\n",
    "    modal = image.shape[0] # 4个模态\n",
    "    depth = image.shape[-1] # 155个帧\n",
    "\n",
    "    for i in range(modal):\n",
    "        cur_modal = '_modal_' + str(i)\n",
    "        # print(f'cur modal:{cur_modal}')\n",
    "        for j in range(depth):\n",
    "            img_f = image[i, :, :, j].copy()\n",
    "            label_f = label[:, :, j].copy()\n",
    "\n",
    "            img_f, NT_label, ED_label, ET_label = single_convert(img_f, label_f)\n",
    "\n",
    "            # BraTS2021_00000_mri_norm2_modal_2_ET_49\n",
    "\n",
    "\n",
    "            # 保存非空NT\n",
    "            if np.sum(NT_label) != 0:\n",
    "\n",
    "                frame_name = sequence.split('.')[0] + cur_modal + '_NT_' + str(j) + '.npy'\n",
    "                # print(f'frame name:{frame_name}')\n",
    "                img_save_path = save_root + 'imgs/' + frame_name\n",
    "                label_save_path = save_root + 'gts/' + frame_name\n",
    "                np.save(img_save_path, img_f)\n",
    "                np.save(label_save_path, NT_label)\n",
    "\n",
    "            # 保存非空ED\n",
    "            if np.sum(ED_label) != 0:\n",
    "                frame_name = sequence.split('.')[0] + cur_modal + '_ED_' + str(j) + '.npy'\n",
    "                # print(f'frame name:{frame_name}')\n",
    "                img_save_path = save_root + 'imgs/' + frame_name\n",
    "                label_save_path = save_root + 'gts/' + frame_name\n",
    "                np.save(img_save_path, img_f)\n",
    "                np.save(label_save_path, ED_label)\n",
    "\n",
    "            # 保存非空ET\n",
    "            if np.sum(ET_label) != 0:\n",
    "                frame_name = sequence.split('.')[0] + cur_modal + '_ET_' + str(j) + '.npy'\n",
    "                # print(f'frame name:{frame_name}')\n",
    "                img_save_path = save_root + 'imgs/' + frame_name\n",
    "                label_save_path = save_root + 'gts/' + frame_name\n",
    "                np.save(img_save_path, img_f)\n",
    "                np.save(label_save_path, ET_label)\n",
    "\n"
   ],
   "metadata": {
    "collapsed": false,
    "is_executing": true,
    "ExecuteTime": {
     "start_time": "2024-03-22T04:45:29.330034700Z"
    }
   }
  },
  {
   "cell_type": "code",
   "execution_count": 35,
   "outputs": [
    {
     "data": {
      "text/plain": "(4, 240, 240, 155)"
     },
     "execution_count": 35,
     "metadata": {},
     "output_type": "execute_result"
    }
   ],
   "source": [
    "image.shape"
   ],
   "metadata": {
    "collapsed": false,
    "ExecuteTime": {
     "end_time": "2024-03-22T04:40:10.529895500Z",
     "start_time": "2024-03-22T04:40:10.513601100Z"
    }
   }
  },
  {
   "cell_type": "code",
   "execution_count": null,
   "outputs": [],
   "source": [],
   "metadata": {
    "collapsed": false
   }
  }
 ],
 "metadata": {
  "kernelspec": {
   "name": "lite-medsam",
   "language": "python",
   "display_name": "lite-medsam"
  },
  "language_info": {
   "codemirror_mode": {
    "name": "ipython",
    "version": 2
   },
   "file_extension": ".py",
   "mimetype": "text/x-python",
   "name": "python",
   "nbconvert_exporter": "python",
   "pygments_lexer": "ipython2",
   "version": "2.7.6"
  }
 },
 "nbformat": 4,
 "nbformat_minor": 0
}
