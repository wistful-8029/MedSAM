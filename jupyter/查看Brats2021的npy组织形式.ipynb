{
 "cells": [
  {
   "cell_type": "code",
   "execution_count": 18,
   "outputs": [],
   "source": [
    "import os\n",
    "\n",
    "os.chdir('/home/yry08/yigedabuliu/lkq/LiteMedSAM')"
   ],
   "metadata": {
    "collapsed": false,
    "ExecuteTime": {
     "end_time": "2024-03-22T04:21:13.588536800Z",
     "start_time": "2024-03-22T04:21:13.582252300Z"
    }
   }
  },
  {
   "cell_type": "code",
   "execution_count": 19,
   "outputs": [],
   "source": [
    "brats_data_root = '/mnt/sda3/yigedabuliu/lkq/data/Task01_BrainTumour/'"
   ],
   "metadata": {
    "collapsed": false,
    "ExecuteTime": {
     "end_time": "2024-03-22T04:21:13.922641300Z",
     "start_time": "2024-03-22T04:21:13.917643Z"
    }
   }
  },
  {
   "cell_type": "code",
   "execution_count": 20,
   "outputs": [],
   "source": [
    "# 导入相关包\n",
    "import torch\n",
    "from tqdm import tqdm\n",
    "import numpy as np\n",
    "import h5py\n",
    "import matplotlib.pyplot as plt"
   ],
   "metadata": {
    "collapsed": false,
    "ExecuteTime": {
     "end_time": "2024-03-22T04:21:14.257153200Z",
     "start_time": "2024-03-22T04:21:14.231836Z"
    }
   }
  },
  {
   "cell_type": "code",
   "execution_count": 21,
   "outputs": [],
   "source": [
    "gy_path = brats_data_root + 'npy/gts/'\n",
    "\n",
    "names = os.listdir(gy_path)"
   ],
   "metadata": {
    "collapsed": false,
    "ExecuteTime": {
     "end_time": "2024-03-22T04:21:14.565448100Z",
     "start_time": "2024-03-22T04:21:14.525940300Z"
    }
   }
  },
  {
   "cell_type": "code",
   "execution_count": 71,
   "outputs": [
    {
     "name": "stdout",
     "output_type": "stream",
     "text": [
      "empty file number:0\n"
     ]
    }
   ],
   "source": [
    "num = 0\n",
    "for name in names:\n",
    "    per_data = np.load(gy_path + name)\n",
    "    # print(f'data shape:{per_data.shape}')\n",
    "    if np.all(per_data == 0):\n",
    "        num = num + 1\n",
    "        print(f'{name} is all element is zero')\n",
    "    # pass\n",
    "print(f'empty file number:{num}')"
   ],
   "metadata": {
    "collapsed": false,
    "ExecuteTime": {
     "end_time": "2024-03-22T04:45:52.957898900Z",
     "start_time": "2024-03-22T04:45:52.386899300Z"
    }
   }
  },
  {
   "cell_type": "code",
   "execution_count": 62,
   "outputs": [],
   "source": [
    "h5_path = '/mnt/sda3/yigedabuliu/lkq/data/Task01_BrainTumour/h5_datasets/BraTS2021_00003_mri_norm2.h5'\n",
    "\n",
    "h5f = h5py.File(h5_path, 'r')\n",
    "image = h5f['image'][:]\n",
    "label = h5f['label'][:]"
   ],
   "metadata": {
    "collapsed": false,
    "ExecuteTime": {
     "end_time": "2024-03-22T04:41:21.087369900Z",
     "start_time": "2024-03-22T04:41:20.646547800Z"
    }
   }
  },
  {
   "cell_type": "code",
   "execution_count": null,
   "outputs": [],
   "source": [],
   "metadata": {
    "collapsed": false
   }
  }
 ],
 "metadata": {
  "kernelspec": {
   "name": "lite-medsam",
   "language": "python",
   "display_name": "lite-medsam"
  },
  "language_info": {
   "codemirror_mode": {
    "name": "ipython",
    "version": 2
   },
   "file_extension": ".py",
   "mimetype": "text/x-python",
   "name": "python",
   "nbconvert_exporter": "python",
   "pygments_lexer": "ipython2",
   "version": "2.7.6"
  }
 },
 "nbformat": 4,
 "nbformat_minor": 0
}
